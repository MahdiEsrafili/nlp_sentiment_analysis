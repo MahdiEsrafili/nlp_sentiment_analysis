{
 "cells": [
  {
   "cell_type": "code",
   "execution_count": 1,
   "metadata": {},
   "outputs": [],
   "source": [
    "import pandas as pd\n",
    "import re\n",
    "from nltk.corpus import stopwords\n",
    "from nltk.tokenize import word_tokenize\n",
    "from nltk.stem.snowball import SnowballStemmer"
   ]
  },
  {
   "cell_type": "code",
   "execution_count": 2,
   "metadata": {},
   "outputs": [],
   "source": [
    "data = pd.read_csv('SemEval2017-task4-dev.subtask-A.english.INPUT.txt', names = ['id', 'label', 'content'], sep ='\\t', index_col=False)\n",
    "data_bu = data"
   ]
  },
  {
   "cell_type": "code",
   "execution_count": 3,
   "metadata": {},
   "outputs": [
    {
     "data": {
      "text/html": [
       "<div>\n",
       "<style scoped>\n",
       "    .dataframe tbody tr th:only-of-type {\n",
       "        vertical-align: middle;\n",
       "    }\n",
       "\n",
       "    .dataframe tbody tr th {\n",
       "        vertical-align: top;\n",
       "    }\n",
       "\n",
       "    .dataframe thead th {\n",
       "        text-align: right;\n",
       "    }\n",
       "</style>\n",
       "<table border=\"1\" class=\"dataframe\">\n",
       "  <thead>\n",
       "    <tr style=\"text-align: right;\">\n",
       "      <th></th>\n",
       "      <th>id</th>\n",
       "      <th>label</th>\n",
       "      <th>content</th>\n",
       "    </tr>\n",
       "  </thead>\n",
       "  <tbody>\n",
       "    <tr>\n",
       "      <th>0</th>\n",
       "      <td>619950566786113536</td>\n",
       "      <td>neutral</td>\n",
       "      <td>Picturehouse's, Pink Floyd's, 'Roger Waters: T...</td>\n",
       "    </tr>\n",
       "    <tr>\n",
       "      <th>1</th>\n",
       "      <td>619969366986235905</td>\n",
       "      <td>neutral</td>\n",
       "      <td>Order Go Set a Watchman in store or through ou...</td>\n",
       "    </tr>\n",
       "    <tr>\n",
       "      <th>2</th>\n",
       "      <td>619971047195045888</td>\n",
       "      <td>negative</td>\n",
       "      <td>If these runway renovations at the airport pre...</td>\n",
       "    </tr>\n",
       "    <tr>\n",
       "      <th>3</th>\n",
       "      <td>619974445185302528</td>\n",
       "      <td>neutral</td>\n",
       "      <td>If you could ask an onstage interview question...</td>\n",
       "    </tr>\n",
       "    <tr>\n",
       "      <th>4</th>\n",
       "      <td>619987808317407232</td>\n",
       "      <td>positive</td>\n",
       "      <td>A portion of book sales from our Harper Lee/Go...</td>\n",
       "    </tr>\n",
       "  </tbody>\n",
       "</table>\n",
       "</div>"
      ],
      "text/plain": [
       "                   id     label  \\\n",
       "0  619950566786113536   neutral   \n",
       "1  619969366986235905   neutral   \n",
       "2  619971047195045888  negative   \n",
       "3  619974445185302528   neutral   \n",
       "4  619987808317407232  positive   \n",
       "\n",
       "                                             content  \n",
       "0  Picturehouse's, Pink Floyd's, 'Roger Waters: T...  \n",
       "1  Order Go Set a Watchman in store or through ou...  \n",
       "2  If these runway renovations at the airport pre...  \n",
       "3  If you could ask an onstage interview question...  \n",
       "4  A portion of book sales from our Harper Lee/Go...  "
      ]
     },
     "execution_count": 3,
     "metadata": {},
     "output_type": "execute_result"
    }
   ],
   "source": [
    "data.head()"
   ]
  },
  {
   "cell_type": "code",
   "execution_count": 4,
   "metadata": {},
   "outputs": [],
   "source": [
    "#remove stop words, after tokenization\n",
    "stop_words=set(stopwords.words(\"english\"))\n",
    "stop_words.remove('not')\n",
    "snowBallStemmer = SnowballStemmer(\"english\")"
   ]
  },
  {
   "cell_type": "code",
   "execution_count": 5,
   "metadata": {},
   "outputs": [],
   "source": [
    "#tokenization\n",
    "#steming\n",
    "#tokenized_df = pd.DataFrame(columns=['id', 'label',])\n",
    "# for i in range(data.shape[0]):\n",
    "#     sample = data.loc[i]['content'].lower()\n",
    "#     token1 = word_tokenize(sample)\n",
    "#     token2 =[]\n",
    "#     for tk in token1:\n",
    "#         if tk in stop_words:\n",
    "#             token1.remove(tk)\n",
    "#         else:\n",
    "#             token2.append(re.sub('[^a-zA-Z\\s]', '', tk))\n",
    "#     token2 = list(filter(lambda a: a not in ['', 's'], token2))\n",
    "#     stemWords = [snowBallStemmer.stem(word) for word in token2]\n",
    "#     data.at[i, 'content'] = stemWords"
   ]
  },
  {
   "cell_type": "code",
   "execution_count": 39,
   "metadata": {},
   "outputs": [],
   "source": [
    "# from nltk import pos_tag"
   ]
  },
  {
   "cell_type": "code",
   "execution_count": 76,
   "metadata": {},
   "outputs": [],
   "source": [
    "# ps = pos_tag(r)"
   ]
  },
  {
   "cell_type": "code",
   "execution_count": 82,
   "metadata": {},
   "outputs": [],
   "source": [
    "# delete_list = ['NNP', 'PRP']"
   ]
  },
  {
   "cell_type": "code",
   "execution_count": 78,
   "metadata": {},
   "outputs": [
    {
     "name": "stdout",
     "output_type": "stream",
     "text": [
      "PRP: pronoun, personal\n",
      "    hers herself him himself hisself it itself me myself one oneself ours\n",
      "    ourselves ownself self she thee theirs them themselves they thou thy us\n"
     ]
    }
   ],
   "source": [
    "# nltk.help.upenn_tagset('PRP')"
   ]
  },
  {
   "cell_type": "code",
   "execution_count": null,
   "metadata": {},
   "outputs": [],
   "source": []
  },
  {
   "cell_type": "code",
   "execution_count": 33,
   "metadata": {},
   "outputs": [],
   "source": [
    "\n",
    "# data = pd.read_csv('SemEval2017-task4-dev.subtask-A.english.INPUT.txt', names = ['id', 'label', 'content'], sep ='\\t', index_col=False)"
   ]
  },
  {
   "cell_type": "code",
   "execution_count": 6,
   "metadata": {},
   "outputs": [
    {
     "data": {
      "text/plain": [
       "neutral     10342\n",
       "positive     7059\n",
       "negative     3231\n",
       "Name: label, dtype: int64"
      ]
     },
     "execution_count": 6,
     "metadata": {},
     "output_type": "execute_result"
    }
   ],
   "source": [
    "data.label.value_counts()"
   ]
  },
  {
   "cell_type": "code",
   "execution_count": 7,
   "metadata": {},
   "outputs": [],
   "source": [
    "import matplotlib.pyplot as plt\n",
    "from nltk import pos_tag"
   ]
  },
  {
   "cell_type": "code",
   "execution_count": 8,
   "metadata": {},
   "outputs": [
    {
     "data": {
      "image/png": "[encoded data removed]",
      "text/plain": [
       "<Figure size 432x288 with 1 Axes>"
      ]
     },
     "metadata": {
      "needs_background": "light"
     },
     "output_type": "display_data"
    }
   ],
   "source": [
    "Sentiment_count=data.groupby('label').count()\n",
    "plt.bar(Sentiment_count.index.values, Sentiment_count['content'])\n",
    "plt.xlabel('Twitt Sentiments')\n",
    "plt.ylabel('Number of Twitts')\n",
    "plt.show()"
   ]
  },
  {
   "cell_type": "code",
   "execution_count": 9,
   "metadata": {},
   "outputs": [],
   "source": [
    "#pre process : remove delete list\n",
    "# delete_list = ['NNP', 'PRP']\n",
    "# for d in range(data.shape[0]):\n",
    "#     #print(d)\n",
    "#     sen = ''\n",
    "#     r = word_tokenize(data.loc[d]['content'])\n",
    "#     ps = pos_tag(r)\n",
    "#     for i in ps:\n",
    "#     #print(d)\n",
    "#         if i[1] not in delete_list:\n",
    "#             sen += i[0] + ' '\n",
    "#     data.at[d, 'content'] = sen"
   ]
  },
  {
   "cell_type": "code",
   "execution_count": 9,
   "metadata": {},
   "outputs": [],
   "source": [
    "# data.head()"
   ]
  },
  {
   "cell_type": "code",
   "execution_count": 10,
   "metadata": {},
   "outputs": [],
   "source": [
    "from sklearn.feature_extraction.text import CountVectorizer\n",
    "from nltk.tokenize import RegexpTokenizer\n",
    "#tokenizer to remove unwanted elements from out data like symbols and numbers\n",
    "token = RegexpTokenizer(r'[a-zA-Z]+')\n",
    "cv = CountVectorizer(lowercase=True,stop_words='english',ngram_range = (1,4),tokenizer = token.tokenize)\n",
    "text_counts= cv.fit_transform(data['content'])"
   ]
  },
  {
   "cell_type": "code",
   "execution_count": 11,
   "metadata": {},
   "outputs": [],
   "source": [
    "from sklearn.model_selection import train_test_split\n",
    "X_train, X_test, y_train, y_test = train_test_split(\n",
    "    text_counts, data['label'], test_size=0.3, random_state=1)"
   ]
  },
  {
   "cell_type": "code",
   "execution_count": 12,
   "metadata": {},
   "outputs": [
    {
     "name": "stdout",
     "output_type": "stream",
     "text": [
      "MultinomialNB Accuracy: 0.5959612277867529\n"
     ]
    }
   ],
   "source": [
    "from sklearn.naive_bayes import MultinomialNB\n",
    "#Import scikit-learn metrics module for accuracy calculation\n",
    "from sklearn import metrics\n",
    "# Model Generation Using Multinomial Naive Bayes\n",
    "clf = MultinomialNB().fit(X_train, y_train)\n",
    "predicted= clf.predict(X_test)\n",
    "print(\"MultinomialNB Accuracy:\",metrics.accuracy_score(y_test, predicted))"
   ]
  },
  {
   "cell_type": "code",
   "execution_count": 16,
   "metadata": {},
   "outputs": [],
   "source": [
    "from sklearn.tree import DecisionTreeClassifier"
   ]
  },
  {
   "cell_type": "code",
   "execution_count": 17,
   "metadata": {},
   "outputs": [],
   "source": [
    "dt = DecisionTreeClassifier(min_samples_split=20, random_state=99)"
   ]
  },
  {
   "cell_type": "code",
   "execution_count": 18,
   "metadata": {},
   "outputs": [],
   "source": [
    "result = dt.fit(X_train, y_train)"
   ]
  },
  {
   "cell_type": "code",
   "execution_count": 19,
   "metadata": {},
   "outputs": [],
   "source": [
    "pre = result.predict(X_test)"
   ]
  },
  {
   "cell_type": "code",
   "execution_count": 20,
   "metadata": {},
   "outputs": [
    {
     "name": "stdout",
     "output_type": "stream",
     "text": [
      "DT Accuracy: 0.5350565428109855\n"
     ]
    }
   ],
   "source": [
    "print(\"DT Accuracy:\",metrics.accuracy_score(y_test, pre))"
   ]
  },
  {
   "cell_type": "code",
   "execution_count": null,
   "metadata": {},
   "outputs": [],
   "source": []
  },
  {
   "cell_type": "code",
   "execution_count": null,
   "metadata": {},
   "outputs": [],
   "source": [
    "#KNN"
   ]
  },
  {
   "cell_type": "code",
   "execution_count": 21,
   "metadata": {},
   "outputs": [],
   "source": [
    "from sklearn.neighbors import KNeighborsClassifier"
   ]
  },
  {
   "cell_type": "code",
   "execution_count": 22,
   "metadata": {},
   "outputs": [],
   "source": [
    "knn = KNeighborsClassifier()"
   ]
  },
  {
   "cell_type": "code",
   "execution_count": 23,
   "metadata": {},
   "outputs": [],
   "source": [
    "model = knn.fit(X_train, y_train)"
   ]
  },
  {
   "cell_type": "code",
   "execution_count": 24,
   "metadata": {},
   "outputs": [
    {
     "data": {
      "text/plain": [
       "0.7043345796981028"
      ]
     },
     "execution_count": 24,
     "metadata": {},
     "output_type": "execute_result"
    }
   ],
   "source": [
    "knn.score(X_train, y_train)"
   ]
  },
  {
   "cell_type": "code",
   "execution_count": 25,
   "metadata": {},
   "outputs": [
    {
     "data": {
      "text/plain": [
       "0.5610662358642973"
      ]
     },
     "execution_count": 25,
     "metadata": {},
     "output_type": "execute_result"
    }
   ],
   "source": [
    "knn.score(X_test, y_test)"
   ]
  },
  {
   "cell_type": "code",
   "execution_count": 26,
   "metadata": {},
   "outputs": [],
   "source": [
    "pre = knn.predict(X_test)"
   ]
  },
  {
   "cell_type": "code",
   "execution_count": 27,
   "metadata": {},
   "outputs": [
    {
     "name": "stdout",
     "output_type": "stream",
     "text": [
      "0.5610662358642973\n"
     ]
    }
   ],
   "source": [
    "print(metrics.accuracy_score(y_test, pre))"
   ]
  },
  {
   "cell_type": "code",
   "execution_count": null,
   "metadata": {},
   "outputs": [],
   "source": []
  },
  {
   "cell_type": "code",
   "execution_count": null,
   "metadata": {},
   "outputs": [],
   "source": []
  },
  {
   "cell_type": "code",
   "execution_count": null,
   "metadata": {},
   "outputs": [],
   "source": []
  },
  {
   "cell_type": "code",
   "execution_count": null,
   "metadata": {},
   "outputs": [],
   "source": [
    "#RNN"
   ]
  },
  {
   "cell_type": "code",
   "execution_count": null,
   "metadata": {},
   "outputs": [],
   "source": []
  },
  {
   "cell_type": "code",
   "execution_count": 28,
   "metadata": {},
   "outputs": [],
   "source": [
    "token_df = pd.DataFrame(columns=['id', 'label', 'content'])\n",
    "word_list = []"
   ]
  },
  {
   "cell_type": "code",
   "execution_count": 29,
   "metadata": {},
   "outputs": [],
   "source": [
    "#remove stop words, after tokenization\n",
    "stop_words=set(stopwords.words(\"english\"))\n",
    "snowBallStemmer = SnowballStemmer(\"english\")\n",
    "from nltk.stem import WordNetLemmatizer \n",
    "  \n",
    "lemmatizer = WordNetLemmatizer()\n",
    "from nltk import pos_tag "
   ]
  },
  {
   "cell_type": "code",
   "execution_count": 30,
   "metadata": {},
   "outputs": [],
   "source": [
    "for i in range(data.shape[0]):\n",
    "    sample = data.loc[i]['content']\n",
    "    token1 = word_tokenize(sample)\n",
    "#     token2 =[]\n",
    "#     for tk in token1:\n",
    "#         if tk in stop_words:\n",
    "#             token1.remove(tk)\n",
    "#         else:\n",
    "#             token2.append(re.sub('[^a-zA-Z\\s]', '', tk))\n",
    "#     token2 = list(filter(lambda a: a not in ['', 's'], token2))\n",
    "#     stemWords = [snowBallStemmer.stem(word) for word in token2]\n",
    "    token2 = [lemmatizer.lemmatize(x) for x in token1]\n",
    "    ps_tag = pos_tag(token2)\n",
    "    token3 = []\n",
    "    for d in ps_tag:\n",
    "        d = list(d)\n",
    "        if d[1] == 'NN':\n",
    "            d[0] = 'NAME'\n",
    "        token3.append(d[0])\n",
    "    \n",
    "    token_df.at[i] = [data.loc[i]['id'], data.loc[i]['label'],token3]\n",
    "    word_list += token3\n",
    "    "
   ]
  },
  {
   "cell_type": "code",
   "execution_count": 31,
   "metadata": {},
   "outputs": [],
   "source": [
    "#creat dictionary of words:\n",
    "from collections import Counter\n",
    "## Build a dictionary that maps words to integers \n",
    "counts = Counter(word_list)\n",
    "vocab = sorted(counts, key=counts.get, reverse=True)\n",
    "vocab_to_int = {word_list: ii for ii, word_list in enumerate(vocab, 1)}\n",
    "vocab_df = pd.DataFrame(columns=['id', 'label', 'content'])\n",
    "for i in range(token_df.shape[0]):\n",
    "    temp = []\n",
    "    for j in token_df.loc[i]['content']:\n",
    "        temp.append(vocab_to_int[j])\n",
    "    vocab_df.at[i] = [token_df.loc[i]['id'], token_df.loc[i]['label'],temp]"
   ]
  },
  {
   "cell_type": "code",
   "execution_count": 32,
   "metadata": {},
   "outputs": [
    {
     "data": {
      "text/plain": [
       "54"
      ]
     },
     "execution_count": 32,
     "metadata": {},
     "output_type": "execute_result"
    }
   ],
   "source": [
    "len(max(vocab_df['content'], key = len))"
   ]
  },
  {
   "cell_type": "code",
   "execution_count": 37,
   "metadata": {},
   "outputs": [
    {
     "data": {
      "text/plain": [
       "30453"
      ]
     },
     "execution_count": 37,
     "metadata": {},
     "output_type": "execute_result"
    }
   ],
   "source": [
    "len(set(word_list))"
   ]
  },
  {
   "cell_type": "code",
   "execution_count": 33,
   "metadata": {},
   "outputs": [],
   "source": [
    "from tensorflow.keras.preprocessing import sequence\n",
    "padd_data = sequence.pad_sequences(vocab_df['content'], maxlen=54)\n"
   ]
  },
  {
   "cell_type": "code",
   "execution_count": 34,
   "metadata": {},
   "outputs": [],
   "source": [
    "labels = token_df['label']"
   ]
  },
  {
   "cell_type": "code",
   "execution_count": 35,
   "metadata": {},
   "outputs": [],
   "source": [
    "import numpy as np"
   ]
  },
  {
   "cell_type": "code",
   "execution_count": 36,
   "metadata": {},
   "outputs": [],
   "source": [
    "encoded_labels = np.zeros(20632)\n",
    "for l in range(labels.shape[0]):\n",
    "    if labels[l] == 'neutral':\n",
    "        encoded_labels[l] = 0\n",
    "    elif labels[l] == 'positive':\n",
    "        encoded_labels[l] = 1\n",
    "    elif labels[l] == 'negative':\n",
    "        encoded_labels[l] = 2"
   ]
  },
  {
   "cell_type": "code",
   "execution_count": 38,
   "metadata": {},
   "outputs": [
    {
     "name": "stdout",
     "output_type": "stream",
     "text": [
      "Model: \"sequential\"\n",
      "_________________________________________________________________\n",
      "Layer (type)                 Output Shape              Param #   \n",
      "=================================================================\n",
      "embedding (Embedding)        (None, 54, 32)            974528    \n",
      "_________________________________________________________________\n",
      "lstm (LSTM)                  (None, 100)               53200     \n",
      "_________________________________________________________________\n",
      "dense (Dense)                (None, 3)                 303       \n",
      "=================================================================\n",
      "Total params: 1,028,031\n",
      "Trainable params: 1,028,031\n",
      "Non-trainable params: 0\n",
      "_________________________________________________________________\n",
      "None\n"
     ]
    }
   ],
   "source": [
    "#test train split\n",
    "from sklearn.model_selection import train_test_split\n",
    "from tensorflow.keras import Sequential\n",
    "from tensorflow.keras.layers import Embedding, LSTM, Dense, Dropout\n",
    "embedding_size=32\n",
    "model=Sequential()\n",
    "model.add(Embedding(30454, embedding_size, input_length=54))\n",
    "model.add(LSTM(100))\n",
    "model.add(Dense(3, activation='sigmoid'))\n",
    "print(model.summary())"
   ]
  },
  {
   "cell_type": "code",
   "execution_count": 39,
   "metadata": {},
   "outputs": [],
   "source": [
    "model.compile(loss='sparse_categorical_crossentropy', \n",
    "             optimizer='adam', \n",
    "             metrics=['accuracy'])"
   ]
  },
  {
   "cell_type": "code",
   "execution_count": 40,
   "metadata": {},
   "outputs": [
    {
     "name": "stdout",
     "output_type": "stream",
     "text": [
      "Train on 14378 samples, validate on 64 samples\n",
      "Epoch 1/3\n",
      "14378/14378 [==============================] - 29s 2ms/sample - loss: 0.9766 - accuracy: 0.5214 - val_loss: 0.8125 - val_accuracy: 0.5938\n",
      "Epoch 2/3\n",
      "14378/14378 [==============================] - 24s 2ms/sample - loss: 0.7462 - accuracy: 0.6685 - val_loss: 0.7563 - val_accuracy: 0.6875\n",
      "Epoch 3/3\n",
      "14378/14378 [==============================] - 24s 2ms/sample - loss: 0.5410 - accuracy: 0.7826 - val_loss: 0.7816 - val_accuracy: 0.6719\n",
      "Test accuracy: 0.623748\n",
      "Train on 14378 samples, validate on 64 samples\n",
      "Epoch 1/3\n",
      "14378/14378 [==============================] - 24s 2ms/sample - loss: 0.3813 - accuracy: 0.8539 - val_loss: 0.7929 - val_accuracy: 0.7344\n",
      "Epoch 2/3\n",
      "14378/14378 [==============================] - 24s 2ms/sample - loss: 0.2702 - accuracy: 0.9028 - val_loss: 0.9514 - val_accuracy: 0.6406\n",
      "Epoch 3/3\n",
      "14378/14378 [==============================] - 24s 2ms/sample - loss: 0.2119 - accuracy: 0.9234 - val_loss: 1.0747 - val_accuracy: 0.6875\n",
      "Test accuracy: 0.6161551\n",
      "Train on 14378 samples, validate on 64 samples\n",
      "Epoch 1/3\n",
      "14378/14378 [==============================] - 27s 2ms/sample - loss: 0.1594 - accuracy: 0.9446 - val_loss: 0.9992 - val_accuracy: 0.6875\n",
      "Epoch 2/3\n",
      "14378/14378 [==============================] - 26s 2ms/sample - loss: 0.1489 - accuracy: 0.9475 - val_loss: 1.3051 - val_accuracy: 0.6562\n",
      "Epoch 3/3\n",
      "14378/14378 [==============================] - 26s 2ms/sample - loss: 0.1215 - accuracy: 0.9569 - val_loss: 1.2992 - val_accuracy: 0.5938\n",
      "Test accuracy: 0.6003231\n",
      "Train on 14378 samples, validate on 64 samples\n",
      "Epoch 1/3\n",
      "14378/14378 [==============================] - 26s 2ms/sample - loss: 0.1018 - accuracy: 0.9634 - val_loss: 1.3851 - val_accuracy: 0.6562\n",
      "Epoch 2/3\n",
      "14378/14378 [==============================] - 27s 2ms/sample - loss: 0.0884 - accuracy: 0.9683 - val_loss: 1.3591 - val_accuracy: 0.6562\n",
      "Epoch 3/3\n",
      "14378/14378 [==============================] - ETA: 0s - loss: 0.0804 - accuracy: 0.97 - 27s 2ms/sample - loss: 0.0808 - accuracy: 0.9709 - val_loss: 1.6582 - val_accuracy: 0.6406\n",
      "Test accuracy: 0.58966076\n",
      "Train on 14378 samples, validate on 64 samples\n",
      "Epoch 1/3\n",
      "14378/14378 [==============================] - 28s 2ms/sample - loss: 0.0750 - accuracy: 0.9732 - val_loss: 1.1794 - val_accuracy: 0.7031\n",
      "Epoch 2/3\n",
      "14378/14378 [==============================] - 28s 2ms/sample - loss: 0.0676 - accuracy: 0.9752 - val_loss: 1.3038 - val_accuracy: 0.7188\n",
      "Epoch 3/3\n",
      "14378/14378 [==============================] - 29s 2ms/sample - loss: 0.0669 - accuracy: 0.9769 - val_loss: 1.4601 - val_accuracy: 0.6875\n",
      "Test accuracy: 0.598546\n",
      "Train on 14378 samples, validate on 64 samples\n",
      "Epoch 1/3\n",
      "14378/14378 [==============================] - 29s 2ms/sample - loss: 0.0606 - accuracy: 0.9795 - val_loss: 1.5437 - val_accuracy: 0.6406\n",
      "Epoch 2/3\n",
      "14378/14378 [==============================] - 30s 2ms/sample - loss: 0.0552 - accuracy: 0.9800 - val_loss: 1.3451 - val_accuracy: 0.6719\n",
      "Epoch 3/3\n",
      "14378/14378 [==============================] - 30s 2ms/sample - loss: 0.0521 - accuracy: 0.9816 - val_loss: 1.4276 - val_accuracy: 0.6719\n",
      "Test accuracy: 0.5848142\n",
      "Train on 14378 samples, validate on 64 samples\n",
      "Epoch 1/3\n",
      "14378/14378 [==============================] - 32s 2ms/sample - loss: 0.0442 - accuracy: 0.9848 - val_loss: 1.7455 - val_accuracy: 0.6406\n",
      "Epoch 2/3\n",
      "14378/14378 [==============================] - 33s 2ms/sample - loss: 0.0415 - accuracy: 0.9854 - val_loss: 1.6047 - val_accuracy: 0.6562\n",
      "Epoch 3/3\n",
      "14378/14378 [==============================] - 33s 2ms/sample - loss: 0.0368 - accuracy: 0.9876 - val_loss: 1.5506 - val_accuracy: 0.6719\n",
      "Test accuracy: 0.58093697\n",
      "Train on 14378 samples, validate on 64 samples\n",
      "Epoch 1/3\n",
      "14378/14378 [==============================] - 36s 2ms/sample - loss: 0.0372 - accuracy: 0.9865 - val_loss: 2.0279 - val_accuracy: 0.6406\n",
      "Epoch 2/3\n",
      "14378/14378 [==============================] - 37s 3ms/sample - loss: 0.0335 - accuracy: 0.9889 - val_loss: 1.6448 - val_accuracy: 0.6562\n",
      "Epoch 3/3\n",
      "14378/14378 [==============================] - 36s 2ms/sample - loss: 0.0275 - accuracy: 0.9904 - val_loss: 2.0134 - val_accuracy: 0.6094\n",
      "Test accuracy: 0.5936995\n",
      "Train on 14378 samples, validate on 64 samples\n",
      "Epoch 1/3\n",
      "14378/14378 [==============================] - 37s 3ms/sample - loss: 0.0278 - accuracy: 0.9901 - val_loss: 1.7228 - val_accuracy: 0.6562\n",
      "Epoch 2/3\n",
      "14378/14378 [==============================] - 38s 3ms/sample - loss: 0.0238 - accuracy: 0.9916 - val_loss: 1.6011 - val_accuracy: 0.6250\n",
      "Epoch 3/3\n",
      "14378/14378 [==============================] - 38s 3ms/sample - loss: 0.0239 - accuracy: 0.9914 - val_loss: 2.1496 - val_accuracy: 0.6250\n",
      "Test accuracy: 0.57576734\n",
      "Train on 14378 samples, validate on 64 samples\n",
      "Epoch 1/3\n",
      "14378/14378 [==============================] - 40s 3ms/sample - loss: 0.0296 - accuracy: 0.9894 - val_loss: 1.6884 - val_accuracy: 0.6250\n",
      "Epoch 2/3\n",
      "14378/14378 [==============================] - 41s 3ms/sample - loss: 0.0301 - accuracy: 0.9891 - val_loss: 1.7596 - val_accuracy: 0.6719- ETA: 20s - loss: 0.0 - ETA: 16s - loss: 0.0264 - accuracy: 0.9 - ETA: 16s - loss: 0. - ETA - ETA: 3s - l - ETA: 0s - loss: 0.0303 - accuracy: 0.98 - ETA: 0s - loss: 0.0303 - accuracy: 0.98 - ETA: 0s - loss: 0.0302 - accuracy: 0.\n",
      "Epoch 3/3\n",
      "14378/14378 [==============================] - 42s 3ms/sample - loss: 0.0226 - accuracy: 0.9910 - val_loss: 1.6173 - val_accuracy: 0.6719ETA: 28s - loss: - E - ETA: 8s - loss: 0 - ETA: 6s - l\n",
      "Test accuracy: 0.57253635\n",
      "final accuracy:\t 0.5936187326908111\n"
     ]
    }
   ],
   "source": [
    "final_accuracy = 0\n",
    "for r in range(10):\n",
    "    batch_size = 64\n",
    "    num_epochs = 3\n",
    "    X_train, X_test, y_train, y_test = train_test_split(\n",
    "    padd_data, encoded_labels, test_size=0.3, random_state=100)\n",
    "    X_valid, y_valid = X_train[:batch_size], y_train[:batch_size]\n",
    "    X_train2, y_train2 = X_train[batch_size:], y_train[batch_size:]\n",
    "    model.fit(X_train2, y_train2, validation_data=(X_valid, y_valid), batch_size=batch_size, epochs=num_epochs)\n",
    "    scores = model.evaluate(X_test, y_test, verbose=0)\n",
    "    print('Test accuracy:', scores[1])\n",
    "    final_accuracy += scores[1]\n",
    "\n",
    "print('final accuracy:\\t', final_accuracy/10)"
   ]
  },
  {
   "cell_type": "code",
   "execution_count": 4,
   "metadata": {},
   "outputs": [
    {
     "data": {
      "text/html": [
       "<div>\n",
       "<style scoped>\n",
       "    .dataframe tbody tr th:only-of-type {\n",
       "        vertical-align: middle;\n",
       "    }\n",
       "\n",
       "    .dataframe tbody tr th {\n",
       "        vertical-align: top;\n",
       "    }\n",
       "\n",
       "    .dataframe thead th {\n",
       "        text-align: right;\n",
       "    }\n",
       "</style>\n",
       "<table border=\"1\" class=\"dataframe\">\n",
       "  <thead>\n",
       "    <tr style=\"text-align: right;\">\n",
       "      <th></th>\n",
       "      <th>id</th>\n",
       "      <th>label</th>\n",
       "      <th>content</th>\n",
       "    </tr>\n",
       "  </thead>\n",
       "  <tbody>\n",
       "    <tr>\n",
       "      <th>0</th>\n",
       "      <td>619950566786113536</td>\n",
       "      <td>neutral</td>\n",
       "      <td>Picturehouse's, Pink Floyd's, 'Roger Waters: T...</td>\n",
       "    </tr>\n",
       "    <tr>\n",
       "      <th>1</th>\n",
       "      <td>619969366986235905</td>\n",
       "      <td>neutral</td>\n",
       "      <td>Order Go Set a Watchman in store or through ou...</td>\n",
       "    </tr>\n",
       "    <tr>\n",
       "      <th>2</th>\n",
       "      <td>619971047195045888</td>\n",
       "      <td>negative</td>\n",
       "      <td>If these runway renovations at the airport pre...</td>\n",
       "    </tr>\n",
       "    <tr>\n",
       "      <th>3</th>\n",
       "      <td>619974445185302528</td>\n",
       "      <td>neutral</td>\n",
       "      <td>If you could ask an onstage interview question...</td>\n",
       "    </tr>\n",
       "    <tr>\n",
       "      <th>4</th>\n",
       "      <td>619987808317407232</td>\n",
       "      <td>positive</td>\n",
       "      <td>A portion of book sales from our Harper Lee/Go...</td>\n",
       "    </tr>\n",
       "  </tbody>\n",
       "</table>\n",
       "</div>"
      ],
      "text/plain": [
       "                   id     label  \\\n",
       "0  619950566786113536   neutral   \n",
       "1  619969366986235905   neutral   \n",
       "2  619971047195045888  negative   \n",
       "3  619974445185302528   neutral   \n",
       "4  619987808317407232  positive   \n",
       "\n",
       "                                             content  \n",
       "0  Picturehouse's, Pink Floyd's, 'Roger Waters: T...  \n",
       "1  Order Go Set a Watchman in store or through ou...  \n",
       "2  If these runway renovations at the airport pre...  \n",
       "3  If you could ask an onstage interview question...  \n",
       "4  A portion of book sales from our Harper Lee/Go...  "
      ]
     },
     "execution_count": 4,
     "metadata": {},
     "output_type": "execute_result"
    }
   ],
   "source": [
    "data.head()"
   ]
  },
  {
   "cell_type": "code",
   "execution_count": null,
   "metadata": {},
   "outputs": [],
   "source": []
  },
  {
   "cell_type": "code",
   "execution_count": null,
   "metadata": {},
   "outputs": [],
   "source": []
  },
  {
   "cell_type": "code",
   "execution_count": null,
   "metadata": {},
   "outputs": [],
   "source": []
  },
  {
   "cell_type": "code",
   "execution_count": 6,
   "metadata": {},
   "outputs": [],
   "source": [
    "#XGBoost\n",
    "import xgboost as xgb\n",
    "from sklearn.metrics import mean_squared_error\n",
    "import numpy as np"
   ]
  },
  {
   "cell_type": "code",
   "execution_count": 7,
   "metadata": {},
   "outputs": [],
   "source": [
    "from sklearn.feature_extraction.text import CountVectorizer\n",
    "from nltk.tokenize import RegexpTokenizer\n",
    "#tokenizer to remove unwanted elements from out data like symbols and numbers\n",
    "token = RegexpTokenizer(r'[a-zA-Z]+')\n",
    "cv = CountVectorizer(lowercase=True,stop_words='english',ngram_range = (1,4),tokenizer = token.tokenize)\n",
    "text_counts= cv.fit_transform(data['content'])"
   ]
  },
  {
   "cell_type": "code",
   "execution_count": 8,
   "metadata": {},
   "outputs": [],
   "source": [
    "encoded_labels = np.zeros(20632)\n",
    "for l in range(data.shape[0]):\n",
    "    if data.loc[l].label == 'neutral':\n",
    "        encoded_labels[l] = 0\n",
    "    elif data.loc[l].label == 'positive':\n",
    "        encoded_labels[l] = 1\n",
    "    elif data.loc[l].label == 'negative':\n",
    "        encoded_labels[l] = 2"
   ]
  },
  {
   "cell_type": "code",
   "execution_count": 9,
   "metadata": {},
   "outputs": [],
   "source": [
    "X, y = data.iloc[:,:-1],data.iloc[:,-1]"
   ]
  },
  {
   "cell_type": "code",
   "execution_count": 10,
   "metadata": {},
   "outputs": [],
   "source": [
    "from sklearn.model_selection import train_test_split\n",
    "\n",
    "X_train, X_test, y_train, y_test = train_test_split(text_counts, encoded_labels, test_size=0.2, random_state=123)"
   ]
  },
  {
   "cell_type": "code",
   "execution_count": 11,
   "metadata": {},
   "outputs": [],
   "source": [
    "xg_reg = xgb.XGBClassifier(objective ='objective=multi:softmax', colsample_bytree = 0.3, learning_rate = 0.1,\n",
    "                max_depth = 10, alpha = 10, n_estimators = 40)\n",
    "xg_reg.fit(X_train,y_train)\n",
    "\n",
    "preds = xg_reg.predict(X_test)"
   ]
  },
  {
   "cell_type": "code",
   "execution_count": 12,
   "metadata": {},
   "outputs": [
    {
     "name": "stdout",
     "output_type": "stream",
     "text": [
      "RMSE: 0.888502\n"
     ]
    }
   ],
   "source": [
    "rmse = np.sqrt(mean_squared_error(y_test, preds))\n",
    "print(\"RMSE: %f\" % (rmse))"
   ]
  },
  {
   "cell_type": "code",
   "execution_count": 13,
   "metadata": {},
   "outputs": [],
   "source": [
    "from sklearn import metrics"
   ]
  },
  {
   "cell_type": "code",
   "execution_count": 14,
   "metadata": {},
   "outputs": [
    {
     "name": "stdout",
     "output_type": "stream",
     "text": [
      "0.6081899685001212\n"
     ]
    }
   ],
   "source": [
    "print(metrics.accuracy_score(y_test, preds))"
   ]
  },
  {
   "cell_type": "code",
   "execution_count": 15,
   "metadata": {},
   "outputs": [
    {
     "data": {
      "text/plain": [
       "0.6081899685001212"
      ]
     },
     "execution_count": 15,
     "metadata": {},
     "output_type": "execute_result"
    }
   ],
   "source": [
    "xg_reg.score(X_test, y_test)"
   ]
  },
  {
   "cell_type": "code",
   "execution_count": null,
   "metadata": {},
   "outputs": [],
   "source": []
  }
 ],
 "metadata": {
  "kernelspec": {
   "display_name": "Python 3",
   "language": "python",
   "name": "python3"
  },
  "language_info": {
   "codemirror_mode": {
    "name": "ipython",
    "version": 3
   },
   "file_extension": ".py",
   "mimetype": "text/x-python",
   "name": "python",
   "nbconvert_exporter": "python",
   "pygments_lexer": "ipython3",
   "version": "3.7.3"
  }
 },
 "nbformat": 4,
 "nbformat_minor": 2
}
