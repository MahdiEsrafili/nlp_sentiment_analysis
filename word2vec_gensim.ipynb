{
 "cells": [
  {
   "cell_type": "code",
   "execution_count": 6,
   "metadata": {},
   "outputs": [
    {
     "name": "stdout",
     "output_type": "stream",
     "text": [
      "Cosine similarity between 'alice' and 'wonderland' - CBOW :  0.997334\n",
      "Cosine similarity between 'alice' and 'machines' - CBOW :  0.9456074\n",
      "Cosine similarity between 'alice' and 'wonderland' - Skip Gram :  0.85497683\n",
      "Cosine similarity between 'alice' and 'machines' - Skip Gram :  0.8187278\n"
     ]
    }
   ],
   "source": [
    "# Python program to generate word vectors using Word2Vec \n",
    "\n",
    "# importing all necessary modules \n",
    "from nltk.tokenize import sent_tokenize, word_tokenize \n",
    "import warnings \n",
    "\n",
    "warnings.filterwarnings(action = 'ignore') \n",
    "\n",
    "import gensim \n",
    "from gensim.models import Word2Vec \n",
    "\n",
    "# Reads ‘alice.txt’ file \n",
    "sample = open(\"alice.txt\", \"r\",encoding='UTF-8') \n",
    "s = sample.read() \n",
    "\n",
    "# Replaces escape character with space \n",
    "f = s.replace(\"\\n\", \" \") \n",
    "\n",
    "data = [] \n",
    "\n",
    "# iterate through each sentence in the file \n",
    "for i in sent_tokenize(f): \n",
    "\ttemp = [] \n",
    "\t\n",
    "\t# tokenize the sentence into words \n",
    "\tfor j in word_tokenize(i): \n",
    "\t\ttemp.append(j.lower()) \n",
    "\n",
    "\tdata.append(temp) \n",
    "\n",
    "# Create CBOW model \n",
    "model1 = gensim.models.Word2Vec(data, min_count = 1, \n",
    "\t\t\t\t\t\t\tsize = 25, window = 5) \n",
    "\n",
    "# Print results \n",
    "print(\"Cosine similarity between 'alice' \" +\n",
    "\t\t\t\"and 'wonderland' - CBOW : \", \n",
    "\tmodel1.similarity('alice', 'wonderland')) \n",
    "\t\n",
    "print(\"Cosine similarity between 'alice' \" +\n",
    "\t\t\t\t\"and 'machines' - CBOW : \", \n",
    "\tmodel1.similarity('alice', 'machines')) \n",
    "\n",
    "# Create Skip Gram model \n",
    "model2 = gensim.models.Word2Vec(data, min_count = 1, size = 25, \n",
    "\t\t\t\t\t\t\t\t\t\t\twindow = 5, sg = 1) \n",
    "\n",
    "# Print results \n",
    "print(\"Cosine similarity between 'alice' \" +\n",
    "\t\t\"and 'wonderland' - Skip Gram : \", \n",
    "\tmodel2.similarity('alice', 'wonderland')) \n",
    "\t\n",
    "print(\"Cosine similarity between 'alice' \" +\n",
    "\t\t\t\"and 'machines' - Skip Gram : \", \n",
    "\tmodel2.similarity('alice', 'machines')) \n"
   ]
  },
  {
   "cell_type": "code",
   "execution_count": 7,
   "metadata": {},
   "outputs": [
    {
     "data": {
      "text/plain": [
       "(25,)"
      ]
     },
     "execution_count": 7,
     "metadata": {},
     "output_type": "execute_result"
    }
   ],
   "source": [
    "model1['alice'].shape"
   ]
  },
  {
   "cell_type": "code",
   "execution_count": 8,
   "metadata": {},
   "outputs": [],
   "source": [
    "model3 = gensim.models.Word2Vec(data, min_count = 1, size = 100,window = 5, sg = 2) "
   ]
  },
  {
   "cell_type": "code",
   "execution_count": 9,
   "metadata": {},
   "outputs": [
    {
     "data": {
      "text/plain": [
       "0.89750403"
      ]
     },
     "execution_count": 9,
     "metadata": {},
     "output_type": "execute_result"
    }
   ],
   "source": [
    "model2.similarity('alice', 'she')"
   ]
  },
  {
   "cell_type": "code",
   "execution_count": null,
   "metadata": {},
   "outputs": [],
   "source": []
  }
 ],
 "metadata": {
  "kernelspec": {
   "display_name": "Python 3",
   "language": "python",
   "name": "python3"
  },
  "language_info": {
   "codemirror_mode": {
    "name": "ipython",
    "version": 3
   },
   "file_extension": ".py",
   "mimetype": "text/x-python",
   "name": "python",
   "nbconvert_exporter": "python",
   "pygments_lexer": "ipython3",
   "version": "3.7.3"
  }
 },
 "nbformat": 4,
 "nbformat_minor": 2
}
